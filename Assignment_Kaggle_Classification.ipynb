{
 "cells": [
  {
   "cell_type": "markdown",
   "metadata": {},
   "source": [
    "# Kaggle competition: \n",
    "https://inclass.kaggle.com/c/anlp-2015-classification-assignment\n",
    "\n",
    "Goal: classify Yahoo queries under 7 categories:\n",
    "1. Business&Finance\n",
    "2. Computers&Internet\n",
    "3. Entertainment&Music\n",
    "4. Family&Relationships\n",
    "5. Education&Reference\n",
    "6. Health\n",
    "7. Science&Mathematics\n"
   ]
  },
  {
   "cell_type": "markdown",
   "metadata": {},
   "source": [
    "#Results"
   ]
  },
  {
   "cell_type": "markdown",
   "metadata": {},
   "source": [
    "##Best score algorithm description"
   ]
  },
  {
   "cell_type": "markdown",
   "metadata": {},
   "source": [
    "The best score algorithm was also one of the most basic. For features we used the count of stemmed (using the Porter stemmer) unigrams. We trained a multimodal Naive Bayes as well as a logistic regression classifier on it and took the argmax of the sum of the probabilites to determine the category of the given sample. For the submission we retrained the algorithm on the whole training data (train + dev, not test) so as to have the maximum amount of training data. \n",
    "We achieved with this algorithm a score of: 0.57473"
   ]
  },
  {
   "cell_type": "markdown",
   "metadata": {},
   "source": [
    "##Strategy"
   ]
  },
  {
   "cell_type": "markdown",
   "metadata": {},
   "source": [
    "The strategy was two fold, first trying to improve the classification by using multiple classifiers and combining them. Then by trying to extract more discriminatory features. But before even doing that we tried to develop some intuition about the content by analysing the data, the distribution of categories, readind some queries. \n",
    "Some of the strategie we tried but which didn't improve the result (tried alone or in conjunction sometimes):\n",
    "- tfidf weighting on word counts. Probably didn't work because of not enough documents or too small queries which made it noisy. \n",
    "- filtering most frequent words\n",
    "- spellchecking the input\n",
    "- using higher order ngrams\n",
    "- combining SVM output with logistic regression and naive bayes\n",
    "- using POS tags counts as features\n",
    "- measuring similarity of query and classification through wordnet\n",
    "- fine tuning classification parameter using a Pipeline\n",
    "- normalisation (for SVM)\n",
    "Some other strategies we wanted to try but didn't have time:\n",
    "- chunking, as we noticed that there seems to be a higher number of named entities in Entertainement\n",
    "- balancing the categories on the input (artificially repeating the less represented categories)"
   ]
  },
  {
   "cell_type": "markdown",
   "metadata": {},
   "source": [
    "##Team participation"
   ]
  },
  {
   "cell_type": "markdown",
   "metadata": {},
   "source": [
    "Work was more or less evenly shared between team members. Hadrien created the original notebook with the skeleton and each of us developed some modules independently. Pratibha worked on SVM algorithm, word similarity feature, pos feature and normalization. Hadrien worked on Naives bayes algorithm, Logistic regression, spell check, combining features etc. After working independently, We would then meet up to discuss the result, share code, and discuss the next potential steps to try to reach the maximum result possible. "
   ]
  },
  {
   "cell_type": "markdown",
   "metadata": {},
   "source": [
    "##Imports"
   ]
  },
  {
   "cell_type": "code",
   "execution_count": 233,
   "metadata": {
    "collapsed": true
   },
   "outputs": [],
   "source": [
    "import pandas as pd\n",
    "import numpy as np\n",
    "import matplotlib.pyplot as plt\n",
    "%matplotlib inline\n",
    "import re\n",
    "from pprint import pprint\n",
    "from functools import partial\n",
    "\n",
    "import nltk\n",
    "from nltk import word_tokenize\n",
    "from nltk.corpus import stopwords\n",
    "from nltk.corpus import wordnet as wn\n",
    "\n",
    "from sklearn.feature_extraction.text import CountVectorizer, TfidfVectorizer\n",
    "from sklearn.grid_search import GridSearchCV\n",
    "from sklearn.pipeline import Pipeline, FeatureUnion\n",
    "from sklearn.grid_search import GridSearchCV\n",
    "from sklearn import cross_validation as cv\n"
   ]
  },
  {
   "cell_type": "markdown",
   "metadata": {},
   "source": [
    "##Visualise raw data"
   ]
  },
  {
   "cell_type": "code",
   "execution_count": 204,
   "metadata": {
    "collapsed": false
   },
   "outputs": [],
   "source": [
    "# Load data\n",
    "df = pd.read_csv(\"newtrain.csv\")\n",
    "\n",
    "#Labels\n",
    "labels = {\n",
    "    1: \"Business&Finance\",\n",
    "    2: \"Computers&Internet\",\n",
    "    3: \"Entertainment&Music\",\n",
    "    4: \"Family&Relationships\",\n",
    "    5: \"Education&Reference\",\n",
    "    6: \"Health\",\n",
    "    7: \"Science&Mathematics\"\n",
    "    }\n",
    "reverse_labels = {value:key for (key,value) in labels.items()}"
   ]
  },
  {
   "cell_type": "markdown",
   "metadata": {},
   "source": [
    "###Distribution of categories"
   ]
  },
  {
   "cell_type": "code",
   "execution_count": 206,
   "metadata": {
    "collapsed": false
   },
   "outputs": [
    {
     "data": {
      "image/png": "[encoded data removed]",
      "text/plain": [
       "<matplotlib.figure.Figure at 0x11cfa57d0>"
      ]
     },
     "metadata": {},
     "output_type": "display_data"
    }
   ],
   "source": [
    "sorted_category_counts = df.Category.value_counts(ascending=True)\n",
    "plot = sorted_category_counts.plot(kind=\"barh\", title=\"Categories\")"
   ]
  },
  {
   "cell_type": "markdown",
   "metadata": {},
   "source": [
    "###Random raw text from each category (to develop intuition)"
   ]
  },
  {
   "cell_type": "code",
   "execution_count": 19,
   "metadata": {
    "collapsed": false
   },
   "outputs": [],
   "source": [
    "def lookup(categories, n=10):\n",
    "    \"\"\"Categories is a list of category numbers\"\"\"\n",
    "    df_rand = pd.DataFrame()\n",
    "    random_idx = np.ndarray(0)\n",
    "    for category in categories:   \n",
    "        rdm_idxs = np.random.choice(df[ df[\"Category\"] == category ].index, n)\n",
    "        print(\"---------\")\n",
    "        print(labels[category])\n",
    "        print(\"---------\")\n",
    "        print(df.ix[rdm_idxs, [\"Text\"]].values)"
   ]
  },
  {
   "cell_type": "code",
   "execution_count": 20,
   "metadata": {
    "collapsed": true
   },
   "outputs": [
    {
     "name": "stdout",
     "output_type": "stream",
     "text": [
      "---------\n",
      "Business&Finance\n",
      "---------\n",
      "[['why burges are green?']\n",
      " [ 'what should i do to find a good job? every time i look for a job the employers ask me for referers but this is my first time i would work.']\n",
      " [ 'what if person w/ legal custody dont give permission for me to claim dep.even though he lived w/ me for 1 yr.?']\n",
      " ['what state next to california has cheap rent?']\n",
      " [\"what do you do when you're lonely?\"]\n",
      " ['what is the main strip in cancun? the best street with hotels']\n",
      " ['how is the job market for ophthalmologists in washington state?']\n",
      " ['who was the first person to look at a cow and say']\n",
      " [ 'should i kiss my boyfriend and if i do it tomorrow would it be to fast he not like it?']\n",
      " ['am i cool?']]\n",
      "---------\n",
      "Computers&Internet\n",
      "---------\n",
      "[['what is seo?']\n",
      " ['how do you use myspace at school if its blocked?']\n",
      " ['what is the best free photo hosting service?']\n",
      " ['what is seo?']\n",
      " ['where can i download messenger without voice?']\n",
      " ['how can you make a website? i would like to make a website']\n",
      " [ \"can the cd-rw drive in my laptop play dvd's? do i have to buy new hardware\"]\n",
      " ['what are id3 tags?']\n",
      " [\"why does the computer take so long to load if it doesn't have a virus?\"]\n",
      " ['msn email registration in outlook xpress ? hi']]\n",
      "---------\n",
      "Entertainment&Music\n",
      "---------\n",
      "[['which csi is best?']\n",
      " ['it come in a pack ']\n",
      " [ 'what is the best place to get guitar lessons in the south bay area? looking for a great instructor and relatively affordable price. i have no experience but have a desire to learn.']\n",
      " [ \"please unsubscribe les.1@sbcglobal.net from yahoo music? to whom it may concern:&#xa;i was seeking a reputable website with which to download music. this evening i immediately went to yahoo music because i felt this would be a safe reputable website.&#xa;i have had nothing but problems with this service for the entire evening. i want to unsubscribe to yahoo music. i have tried through your website to unsubscribe without success. the only option yahoo has offered me is to unsubscribe to the yahoo newsletter. i don't care about the yahoo newsletter. more importantly\"]\n",
      " ['why the pronouciation for mother is almost the same in many languages?']\n",
      " ['what type of muisic is better reggeton (espanish muisic) or oder?']\n",
      " ['are satellite radio stations the same channels all across the country?']\n",
      " ['what is the relationship between 50 cents and jarule?']\n",
      " [ 'what is your favorite horror movie? whoever chooses my favorite will definantly get thumbs up']\n",
      " [\"what's your favorite ...walk into a bar joke?\"]]\n",
      "---------\n",
      "Family&Relationships\n",
      "---------\n",
      "[['my close friend hates my bf']\n",
      " [ 'is it normal to want to have sex with other girls if you have a girlfriend? is it normal to want to have sex with a bunch of other girls even though you are in a relationship?  i was curious because everytime i look at another woman all i wanna do is her.  is that normal or do i have some kind of wanna have sex with all women disorder?']\n",
      " [ 'nationality in lovemaking? can anyone say that there is a definite difference in the sexual performance between women of different nationalities?  who makes the better lover?']\n",
      " ['i found my boyfriend in bed with another girl so i dumped him']\n",
      " ['how do i know if he is the right guy for me?']\n",
      " [ \"if i have sex with this one guy is it going to hurt? i'm a virgin and i really want to you know what so is it gonna hurt or not the much\"]\n",
      " [ \"how do i end a date with a girl i'm not interested in? i went on a date with a girl i met online but there's no chemistry between us.\"]\n",
      " ['how should i act on a date? can someone give me tips?']\n",
      " ['why are ppl gay?']\n",
      " ['do rebound relationships work?']]\n",
      "---------\n",
      "Education&Reference\n",
      "---------\n",
      "[['for coliege admission']\n",
      " [ 'what are 4 ways seeds travel? i am doing a project on how seeds travel! can you help me?']\n",
      " ['how come fire trucks are red? how come fire trucks are red?']\n",
      " ['is there a dictionary for slang words?']\n",
      " ['what is the capital of mongolia?']\n",
      " ['which is the best day school in dehradun']\n",
      " ['what is the slowest possible internet speed?']\n",
      " [ 'who was queen margrete of denmark? i need to make a hat about her for my social studies class.?']\n",
      " [ 'why is the prevalence of autism increasing so fast and why are there so many hucksters preying on parents?']\n",
      " ['what do you need to become a psychologist?']]\n",
      "---------\n",
      "Health\n",
      "---------\n",
      "[[\"what's the best calcium supplement nutritionally and price wise?\"]\n",
      " [ 'i want to know if theres anyone going through a similiar health problem? my mother has had migraine headaches since she was six years old every time she gets one she passes out or ends up in the hospital but they dont take away her pain. this summer she had a very severe haedache and abdominal pain but the doctors cant find any thing well we took her to the hospital because she was in alot of pain well we were waiting to be tended to but the nurse ignored us my mother passed out and was unconsesne for 2 hoursshe said she was being pulled by her dead father and brother she said that one of them wanted her to go with him and her brother wanted her to stay for her children.well when she woke up she lost all her memory she was blank she didnt kmow anything how to eat use the restroom talk she was completely blanked out she didnt recognize anybody. well today she is still recoperating even though she forgets things sometimes.if anybody has had a similiar case please email me at tootie2369@yahoo.com.']\n",
      " ['what education is needed to be a psychiatrist?']\n",
      " [\"i'm a women with gential warts\"]\n",
      " ['pain relief for pain in the ball of foot?']\n",
      " ['how do you do sex?']\n",
      " [ 'what causes a newborn to get red spots that look like pimples on his/her face?']\n",
      " [ 'i have symptoms of ms my dr says i have a nerve disease. my nureo says i am depressed. why wont he believe me? i have had symptoms of ms since 2000. i have been recieving treatment for anxiety. nothing my neurologist perscribes helps. i am jittery']\n",
      " ['what is the best way to treat constant dry eyes (otherwise']\n",
      " ['why do women live more than men?']]\n",
      "---------\n",
      "Science&Mathematics\n",
      "---------\n",
      "[[ \"why do we get tickled when somebody tickles us and we don't when we tickle ourselves?\"]\n",
      " ['can anyone tell me how the snow is formed? because we have rain']\n",
      " ['arteial supply of the heart?']\n",
      " [ 'how does a helicopter fly this is a miracle- i always wanted to learn to fly one of those. can someone explain how can it get airborne?']\n",
      " ['what really provoke cancer beside smoking?']\n",
      " ['is the big bang theory probable']\n",
      " [ 'what is the best fluid mechanics book in chemical engineering for a bachelor student?']\n",
      " [ 'i am a 9th grader.i have to make a mathematics project. pls suggest something?']\n",
      " ['who discovered electricity?']\n",
      " [ 'treatment of idiopathic senile peripheral neuropathy (burning sensations of feet)? 83yr female nondiabetic presnets with parasthesiasof feet due to idiopathic senile peripheral neuropathy']]\n"
     ]
    }
   ],
   "source": [
    "lookup([i+1 for i in range(0, len(labels))], 10)"
   ]
  },
  {
   "cell_type": "markdown",
   "metadata": {},
   "source": [
    "Some thing we can notice:\n",
    "- Spelling mistakes. Eg \"famous\" -> \"famoust\" would influence the bag of words. Stemming might help. Or trying to group similar words under the same word. After identifying most relevant words for each category, pass again through data to identify if each word is in the query (\"within\" another word that is a spelling mistake or a variant)\n",
    "- Some elements have questions marks but not all \n",
    "- all queries are already lowercased\n",
    "- keyword:\n",
    "    - business: money, price, product, debt,\n",
    "    - computers: \"technology, classes (ie technical term) \n",
    "- Entertainement and music has a lot of named entities: star names, fictional characters\n",
    "- More what's for Education? \n"
   ]
  },
  {
   "cell_type": "markdown",
   "metadata": {},
   "source": [
    "##Data munging"
   ]
  },
  {
   "cell_type": "markdown",
   "metadata": {},
   "source": [
    "###Splitting train and dev data"
   ]
  },
  {
   "cell_type": "code",
   "execution_count": 21,
   "metadata": {
    "collapsed": false
   },
   "outputs": [
    {
     "name": "stdout",
     "output_type": "stream",
     "text": [
      "Rows: 2698\n",
      "Columns: 2\n"
     ]
    }
   ],
   "source": [
    "random_index = np.random.permutation(df.index)\n",
    "df_shuffled = df.ix[random_index, [\"Category\", \"Text\"]]\n",
    "df_shuffled.reset_index(drop=True, inplace=True)\n",
    "df_shuffled.head(10)\n",
    "\n",
    "rows, columns = df_shuffled.shape\n",
    "print(\"Rows:\", rows)\n",
    "print(\"Columns:\", columns)\n",
    "train_size = round(rows*.7)\n",
    "dev_size   = round(rows*.3)\n",
    "\n",
    "df_train = df_shuffled.loc[:train_size]\n",
    "df_dev = df_shuffled.loc[train_size:].reset_index(drop=True)"
   ]
  },
  {
   "cell_type": "markdown",
   "metadata": {},
   "source": [
    "###Create features"
   ]
  },
  {
   "cell_type": "markdown",
   "metadata": {},
   "source": [
    "####Spellchecker"
   ]
  },
  {
   "cell_type": "code",
   "execution_count": 209,
   "metadata": {
    "collapsed": false
   },
   "outputs": [],
   "source": [
    "import enchant\n",
    "d = enchant.Dict(\"en_US\")\n",
    "\n",
    "def generate_spellchecker():\n",
    "    \"\"\" Create a dictionary of mispelled word, corrected words pairs from the text.\"\"\"\n",
    "    tokens = [word for query in df.Text for word in word_tokenize(query) if re.match(r\"[\\w]\", word) is not None and\n",
    "                                                                             word not in stopwords.words(\"english\")]\n",
    "    fdist = nltk.FreqDist(tokens)\n",
    "    fdist_sorted = fdist.most_common()\n",
    "    spellchecker = {}\n",
    "    flag = 0\n",
    "    for (index,(word,count)) in enumerate(fdist_sorted[::-1]):\n",
    "        if not d.check(word):\n",
    "            suggest_words = d.suggest(word)\n",
    "            if suggest_words:\n",
    "                spellchecker[word] = suggest_words[0]\n",
    "    return spellchecker\n",
    "spellchecker = generate_spellchecker()\n",
    "spellchecker\n",
    "\n",
    "def correct_spelling(tokens):\n",
    "    return [word if token not in spellchecker else spellchecker[token] for token in tokens for word in token.split()]\n",
    "    "
   ]
  },
  {
   "cell_type": "markdown",
   "metadata": {},
   "source": [
    "####Tokenizer"
   ]
  },
  {
   "cell_type": "code",
   "execution_count": 210,
   "metadata": {
    "collapsed": false
   },
   "outputs": [],
   "source": [
    "pstemmer = nltk.PorterStemmer()\n",
    "\n",
    "def tokenizer(query, spellchecker=False, tags=False, punct=True):\n",
    "    \"\"\" Tokenizer for the bag of words. Steming is done with PorterStemmer. \n",
    "    Spellchecker: wether to apply a spellchecker\n",
    "    Tags: whether to output as set of tags too (to be used as features)\n",
    "    Punct: Wether to keep (True) or discard punctuation\n",
    "    \"\"\"\n",
    "    tokens = word_tokenize(query)\n",
    "    if spellchecker:\n",
    "        tokens = correct_spelling(tokens)\n",
    "    if punct:\n",
    "        tokens_norm = [pstemmer.stem(token) for token in tokens]\n",
    "    else:\n",
    "        tokens_norm = [pstemmer.stem(token) for token in tokens if re.match(r\"[\\w]\", token) is not None] # Removing punctuation\n",
    "    if tags:\n",
    "        tagged_words = nltk.pos_tag(tokens)\n",
    "        _,tags = zip(*tagged_words)\n",
    "        tags = list(tags)\n",
    "        return tokens_norm + tags\n",
    "    else:\n",
    "        return tokens_norm"
   ]
  },
  {
   "cell_type": "markdown",
   "metadata": {},
   "source": [
    "Spellchecking input doesn't work. "
   ]
  },
  {
   "cell_type": "markdown",
   "metadata": {},
   "source": [
    "#### Computing word similarity with wordnet"
   ]
  },
  {
   "cell_type": "code",
   "execution_count": 222,
   "metadata": {
    "collapsed": false
   },
   "outputs": [],
   "source": [
    "wnlemmatizer = nltk.WordNetLemmatizer()\n",
    "\n",
    "def word_similarity(query):\n",
    "    similarity_features = []   \n",
    "    category_groups = [['Business', 'Finance'], ['Computers', 'Internet'], \\\n",
    "                         ['Entertainment', 'Music'], ['Family', 'Relationships'],\\\n",
    "                         ['Education', 'Reference'], ['Health'], ['Science', 'Mathematics']]\n",
    "    \n",
    "    words = word_tokenize(query)\n",
    "    similarity = []\n",
    "    for groups in category_groups:\n",
    "        group_similarity = []\n",
    "        for word in words:\n",
    "            word_syns = wn.synsets(word, 'n')\n",
    "            for group in groups:\n",
    "                group_syns = wn.synsets(group.lower(), 'n')\n",
    "                if len(word_syns) > 0 and len(group_syns) > 0:\n",
    "                    similarity_value = word_syns[0].path_similarity(group_syns[0])\n",
    "                    if np.isnan(similarity_value):\n",
    "                        group_similarity.append(0)\n",
    "                    else:\n",
    "                        group_similarity.append(similarity_value)\n",
    "        if np.isnan(np.mean(group_similarity)):\n",
    "            similarity.append(0)\n",
    "        else:\n",
    "            similarity.append(np.mean(group_similarity))\n",
    "            similarity_features.append(similarity)\n",
    "        \n",
    "    return similarity "
   ]
  },
  {
   "cell_type": "markdown",
   "metadata": {},
   "source": [
    "##Creating pipeline"
   ]
  },
  {
   "cell_type": "markdown",
   "metadata": {},
   "source": [
    "###CountVectorizer"
   ]
  },
  {
   "cell_type": "markdown",
   "metadata": {},
   "source": [
    "####Naive Bayes"
   ]
  },
  {
   "cell_type": "code",
   "execution_count": 278,
   "metadata": {
    "collapsed": false
   },
   "outputs": [],
   "source": [
    "combined_features = FeatureUnion([(\"counts\", CountVectorizer())])\n",
    "\n",
    "pipeline1 = Pipeline([\n",
    "    ('features', combined_features),\n",
    "    ('classifiers', MultinomialNB()),\n",
    "    ])\n",
    "\n",
    "parameters1 = {\n",
    "    \"features__counts__stop_words\": [\"english\"],\n",
    "    \"features__counts__ngram_range\": [(1,1)],\n",
    "    \"features__counts__min_df\": [1],\n",
    "    'features__counts__tokenizer': [tokenizer],\n",
    "}"
   ]
  },
  {
   "cell_type": "code",
   "execution_count": 299,
   "metadata": {
    "collapsed": false
   },
   "outputs": [
    {
     "name": "stderr",
     "output_type": "stream",
     "text": [
      "[Parallel(n_jobs=1)]: Done   1 jobs       | elapsed:    0.7s\n",
      "[Parallel(n_jobs=1)]: Done  10 out of  10 | elapsed:    7.2s finished\n"
     ]
    },
    {
     "name": "stdout",
     "output_type": "stream",
     "text": [
      "Fitting 10 folds for each of 1 candidates, totalling 10 fits\n",
      "Best score: 0.5100529100529101\n",
      "Best parameters set:\n",
      "\tfeatures__counts__min_df: 1\n",
      "\tfeatures__counts__ngram_range: (1, 1)\n",
      "\tfeatures__counts__stop_words: 'english'\n",
      "\tfeatures__counts__tokenizer: <function tokenizer at 0x119d0bd40>\n",
      "Prediction score: [1 6 1 ..., 6 4 6]\n"
     ]
    }
   ],
   "source": [
    "# Use combined features to transform dataset:\n",
    "grid_search = GridSearchCV(pipeline1, parameters1, verbose=1, error_score=0, cv=10)\n",
    "grid_search.fit(df_train.Text, df_train.Category)\n",
    "print(\"Best score: {}\".format(grid_search.best_score_))\n",
    "print(\"Best parameters set:\")\n",
    "best_parameters = grid_search.best_estimator_.get_params()\n",
    "for param_name in sorted(parameters1.keys()):\n",
    "    print(\"\\t%s: %r\" % (param_name, best_parameters[param_name]))\n",
    "print(\"Prediction score: {}\".format(grid_search.predict(df.Text)))"
   ]
  },
  {
   "cell_type": "markdown",
   "metadata": {},
   "source": [
    "Tried approaches that didn't work\n",
    "- tf-idf doesn't work,probably too small number of documents and not enough words per document\n",
    "- wordnet similarity doesn't work"
   ]
  },
  {
   "cell_type": "markdown",
   "metadata": {},
   "source": [
    "###Bag of words"
   ]
  },
  {
   "cell_type": "markdown",
   "metadata": {},
   "source": [
    "####Classic count vectorizer"
   ]
  },
  {
   "cell_type": "code",
   "execution_count": 303,
   "metadata": {
    "collapsed": false
   },
   "outputs": [
    {
     "data": {
      "text/plain": [
       "(1890, 4252)"
      ]
     },
     "execution_count": 303,
     "metadata": {},
     "output_type": "execute_result"
    }
   ],
   "source": [
    "vec = CountVectorizer(ngram_range=(1, 1), tokenizer=tokenizer,  min_df=1, stop_words=\"english\")\n",
    "arr_train_feature_sparse = vec.fit_transform(df_train[\"Text\"])\n",
    "arr_train_feature = arr_train_feature_sparse.toarray()\n",
    "arr_train_feature.shape"
   ]
  },
  {
   "cell_type": "code",
   "execution_count": 304,
   "metadata": {
    "collapsed": false
   },
   "outputs": [],
   "source": [
    "arr_dev_feature_sparse = vec.transform(df_dev[\"Text\"])\n",
    "arr_dev_feature = arr_dev_feature_sparse.toarray()"
   ]
  },
  {
   "cell_type": "markdown",
   "metadata": {},
   "source": [
    "###Inspecting features"
   ]
  },
  {
   "cell_type": "markdown",
   "metadata": {},
   "source": [
    "Can definitively improve those features"
   ]
  },
  {
   "cell_type": "code",
   "execution_count": 198,
   "metadata": {
    "collapsed": false
   },
   "outputs": [
    {
     "data": {
      "text/html": [
       "<div>\n",
       "<table border=\"1\" class=\"dataframe\">\n",
       "  <thead>\n",
       "    <tr style=\"text-align: right;\">\n",
       "      <th></th>\n",
       "      <th>counts</th>\n",
       "    </tr>\n",
       "  </thead>\n",
       "  <tbody>\n",
       "    <tr>\n",
       "      <th>?</th>\n",
       "      <td>2160</td>\n",
       "    </tr>\n",
       "    <tr>\n",
       "      <th>.</th>\n",
       "      <td>485</td>\n",
       "    </tr>\n",
       "    <tr>\n",
       "      <th>;</th>\n",
       "      <td>220</td>\n",
       "    </tr>\n",
       "    <tr>\n",
       "      <th>&amp;</th>\n",
       "      <td>212</td>\n",
       "    </tr>\n",
       "    <tr>\n",
       "      <th>whi</th>\n",
       "      <td>184</td>\n",
       "    </tr>\n",
       "    <tr>\n",
       "      <th>'s</th>\n",
       "      <td>173</td>\n",
       "    </tr>\n",
       "    <tr>\n",
       "      <th>doe</th>\n",
       "      <td>164</td>\n",
       "    </tr>\n",
       "    <tr>\n",
       "      <th>#</th>\n",
       "      <td>155</td>\n",
       "    </tr>\n",
       "    <tr>\n",
       "      <th>know</th>\n",
       "      <td>146</td>\n",
       "    </tr>\n",
       "    <tr>\n",
       "      <th>xa</th>\n",
       "      <td>138</td>\n",
       "    </tr>\n",
       "  </tbody>\n",
       "</table>\n",
       "</div>"
      ],
      "text/plain": [
       "      counts\n",
       "?       2160\n",
       ".        485\n",
       ";        220\n",
       "&        212\n",
       "whi      184\n",
       "'s       173\n",
       "doe      164\n",
       "#        155\n",
       "know     146\n",
       "xa       138"
      ]
     },
     "execution_count": 198,
     "metadata": {},
     "output_type": "execute_result"
    }
   ],
   "source": [
    "feature_sum = arr_train_feature.sum(axis=0)\n",
    "\n",
    "df_feature_sum = pd.DataFrame({'counts': feature_sum})\n",
    "df_feature_sum.index = vec.get_feature_names()\n",
    "df_feature_sum.sort('counts', ascending=False)[:10]"
   ]
  },
  {
   "cell_type": "markdown",
   "metadata": {},
   "source": [
    "Can definitively filter out stopwords"
   ]
  },
  {
   "cell_type": "code",
   "execution_count": 199,
   "metadata": {
    "collapsed": true
   },
   "outputs": [
    {
     "data": {
      "image/png": "[encoded data removed]",
      "text/plain": [
       "<matplotlib.figure.Figure at 0x140edebd0>"
      ]
     },
     "metadata": {},
     "output_type": "display_data"
    }
   ],
   "source": [
    "df_feature_sum.sort('counts', ascending=False)[:50].plot(kind='barh', figsize=(7,10));"
   ]
  },
  {
   "cell_type": "markdown",
   "metadata": {},
   "source": [
    "Could do this plot for each category to have more info. "
   ]
  },
  {
   "cell_type": "markdown",
   "metadata": {},
   "source": [
    "###Train Naive Bayes and Regression Tree on data using bag of words approach"
   ]
  },
  {
   "cell_type": "markdown",
   "metadata": {},
   "source": [
    "###Naive Bayes"
   ]
  },
  {
   "cell_type": "markdown",
   "metadata": {},
   "source": [
    "####Train"
   ]
  },
  {
   "cell_type": "code",
   "execution_count": 200,
   "metadata": {
    "collapsed": false
   },
   "outputs": [],
   "source": [
    "from sklearn.naive_bayes import MultinomialNB\n",
    "\n",
    "nb = MultinomialNB()\n",
    "nb_model = nb.fit(arr_train_feature, df_train.Category)"
   ]
  },
  {
   "cell_type": "markdown",
   "metadata": {},
   "source": [
    "####Inspecting results"
   ]
  },
  {
   "cell_type": "code",
   "execution_count": 201,
   "metadata": {
    "collapsed": false
   },
   "outputs": [
    {
     "data": {
      "text/plain": [
       "0.54635352286773797"
      ]
     },
     "execution_count": 201,
     "metadata": {},
     "output_type": "execute_result"
    }
   ],
   "source": [
    "nb_predictions = nb_model.predict(arr_dev_feature)\n",
    "nb_predictions_probs = nb_model.predict_proba(arr_dev_feature)\n",
    "from sklearn.metrics import accuracy_score\n",
    "accuracy_score(df_dev.Category, nb_predictions)"
   ]
  },
  {
   "cell_type": "code",
   "execution_count": 1,
   "metadata": {
    "collapsed": true
   },
   "outputs": [
    {
     "ename": "NameError",
     "evalue": "name 'cv' is not defined",
     "output_type": "error",
     "traceback": [
      "\u001b[0;31m---------------------------------------------------------------------------\u001b[0m",
      "\u001b[0;31mNameError\u001b[0m                                 Traceback (most recent call last)",
      "\u001b[0;32m<ipython-input-1-c313ae8ad5be>\u001b[0m in \u001b[0;36m<module>\u001b[0;34m()\u001b[0m\n\u001b[1;32m      1\u001b[0m \u001b[0;31m##Cross-validation\u001b[0m\u001b[0;34m\u001b[0m\u001b[0;34m\u001b[0m\u001b[0m\n\u001b[0;32m----> 2\u001b[0;31m \u001b[0mnb_predictions_cv\u001b[0m \u001b[0;34m=\u001b[0m \u001b[0mcv\u001b[0m\u001b[0;34m.\u001b[0m\u001b[0mcross_val_predict\u001b[0m\u001b[0;34m(\u001b[0m\u001b[0mnb_model\u001b[0m\u001b[0;34m,\u001b[0m \u001b[0marr_all_feature\u001b[0m\u001b[0;34m,\u001b[0m \u001b[0mdf\u001b[0m\u001b[0;34m.\u001b[0m\u001b[0mCategory\u001b[0m\u001b[0;34m,\u001b[0m \u001b[0mcv\u001b[0m\u001b[0;34m=\u001b[0m \u001b[0;36m10\u001b[0m\u001b[0;34m)\u001b[0m\u001b[0;34m\u001b[0m\u001b[0m\n\u001b[0m\u001b[1;32m      3\u001b[0m \u001b[0;31m# nb_predictions_probs = nb_model.predict_proba(arr_dev_feature)\u001b[0m\u001b[0;34m\u001b[0m\u001b[0;34m\u001b[0m\u001b[0m\n\u001b[1;32m      4\u001b[0m \u001b[0maccuracy_score\u001b[0m\u001b[0;34m(\u001b[0m\u001b[0mdf\u001b[0m\u001b[0;34m.\u001b[0m\u001b[0mCategory\u001b[0m\u001b[0;34m,\u001b[0m \u001b[0mnb_predictions_cv\u001b[0m\u001b[0;34m)\u001b[0m\u001b[0;34m\u001b[0m\u001b[0m\n",
      "\u001b[0;31mNameError\u001b[0m: name 'cv' is not defined"
     ]
    }
   ],
   "source": [
    "##Cross-validation\n",
    "nb_predictions_cv = cv.cross_val_predict(nb_model, arr_all_feature, df.Category, cv= 10)\n",
    "# nb_predictions_probs = nb_model.predict_proba(arr_dev_feature)\n",
    "accuracy_score(df.Category, nb_predictions_cv)"
   ]
  },
  {
   "cell_type": "code",
   "execution_count": 142,
   "metadata": {
    "collapsed": false
   },
   "outputs": [
    {
     "data": {
      "text/plain": [
       "['Business&Finance',\n",
       " 'Computers&Internet',\n",
       " 'Entertainment&Music',\n",
       " 'Family&Relationships',\n",
       " 'Education&Reference',\n",
       " 'Health',\n",
       " 'Science&Mathematics']"
      ]
     },
     "execution_count": 142,
     "metadata": {},
     "output_type": "execute_result"
    }
   ],
   "source": [
    "class_labels = [item for item in labels.items()]\n",
    "class_labels = sorted(class_labels)\n",
    "_,class_labels = zip(*class_labels)\n",
    "class_labels = list(class_labels)\n",
    "class_labels"
   ]
  },
  {
   "cell_type": "code",
   "execution_count": 143,
   "metadata": {
    "collapsed": false
   },
   "outputs": [
    {
     "name": "stdout",
     "output_type": "stream",
     "text": [
      "                      precision    recall  f1-score   support\n",
      "\n",
      "    Business&Finance       0.45      0.73      0.56       254\n",
      "  Computers&Internet       0.66      0.72      0.69       134\n",
      " Entertainment&Music       0.59      0.46      0.51       118\n",
      "Family&Relationships       0.67      0.69      0.68       104\n",
      " Education&Reference       0.55      0.09      0.16        64\n",
      "              Health       0.74      0.26      0.39        65\n",
      " Science&Mathematics       0.67      0.14      0.24        70\n",
      "\n",
      "         avg / total       0.58      0.55      0.52       809\n",
      "\n"
     ]
    }
   ],
   "source": [
    "from sklearn.metrics import classification_report\n",
    "\n",
    "print(classification_report(df_dev.Category, nb_predictions, target_names=class_labels))"
   ]
  },
  {
   "cell_type": "markdown",
   "metadata": {},
   "source": [
    "###Logistic regression"
   ]
  },
  {
   "cell_type": "code",
   "execution_count": 144,
   "metadata": {
    "collapsed": false
   },
   "outputs": [
    {
     "data": {
      "text/plain": [
       "0.53646477132262049"
      ]
     },
     "execution_count": 144,
     "metadata": {},
     "output_type": "execute_result"
    }
   ],
   "source": [
    "from sklearn.linear_model import LogisticRegression\n",
    "\n",
    "logreg = LogisticRegression()\n",
    "logreg_model = logreg.fit(arr_train_feature, df_train.Category)\n",
    "\n",
    "logreg_predictions = logreg_model.predict(arr_dev_feature)\n",
    "logreg_predictions_probs = logreg_model.predict_proba(arr_dev_feature)\n",
    "accuracy_score(df_dev.Category, logreg_predictions)"
   ]
  },
  {
   "cell_type": "code",
   "execution_count": 145,
   "metadata": {
    "collapsed": false
   },
   "outputs": [
    {
     "name": "stdout",
     "output_type": "stream",
     "text": [
      "                      precision    recall  f1-score   support\n",
      "\n",
      "    Business&Finance       0.46      0.69      0.55       254\n",
      "  Computers&Internet       0.70      0.62      0.66       134\n",
      " Entertainment&Music       0.59      0.52      0.55       118\n",
      "Family&Relationships       0.65      0.64      0.65       104\n",
      " Education&Reference       0.32      0.17      0.22        64\n",
      "              Health       0.67      0.34      0.45        65\n",
      " Science&Mathematics       0.41      0.23      0.29        70\n",
      "\n",
      "         avg / total       0.55      0.54      0.52       809\n",
      "\n"
     ]
    }
   ],
   "source": [
    "print(classification_report(df_dev.Category, logreg_predictions, target_names=class_labels))"
   ]
  },
  {
   "cell_type": "markdown",
   "metadata": {},
   "source": [
    "Can combine both those probabilities to see if we get better results. Can look at errors and set threshold on difference between the two to fit. "
   ]
  },
  {
   "cell_type": "markdown",
   "metadata": {},
   "source": [
    "### SVM"
   ]
  },
  {
   "cell_type": "code",
   "execution_count": 305,
   "metadata": {
    "collapsed": false
   },
   "outputs": [
    {
     "data": {
      "text/plain": [
       "0.5426452410383189"
      ]
     },
     "execution_count": 305,
     "metadata": {},
     "output_type": "execute_result"
    }
   ],
   "source": [
    "from sklearn.svm import SVC, LinearSVC\n",
    "svm_classifier = LinearSVC()\n",
    "\n",
    "svm_model = svm_classifier.fit(arr_train_feature, df_train.Category)\n",
    "svm_predictions = svm_model.predict(arr_dev_feature)\n",
    "# svm_predictions_probs = svm_model.predict_proba(arr_dev_feature)\n",
    "accuracy_score(df_dev.Category, svm_predictions)"
   ]
  },
  {
   "cell_type": "markdown",
   "metadata": {},
   "source": [
    "###Combination of Naive Bayes and Logistic Regression"
   ]
  },
  {
   "cell_type": "code",
   "execution_count": 188,
   "metadata": {
    "collapsed": false
   },
   "outputs": [
    {
     "data": {
      "text/plain": [
       "0.54758961681087759"
      ]
     },
     "execution_count": 188,
     "metadata": {},
     "output_type": "execute_result"
    }
   ],
   "source": [
    "combined_predictions_probs = np.add(nb_predictions_probs, logreg_predictions_probs)\n",
    "# combined_predictions_probs = np.add(svm_predictions_probs, logreg_predictions_probs)\n",
    "combined_predictions = np.argmax(combined_predictions_probs, axis= 1) + 1\n",
    "accuracy_score(df_dev.Category, combined_predictions)"
   ]
  },
  {
   "cell_type": "code",
   "execution_count": 174,
   "metadata": {
    "collapsed": false
   },
   "outputs": [
    {
     "name": "stdout",
     "output_type": "stream",
     "text": [
      "                      precision    recall  f1-score   support\n",
      "\n",
      "    Business&Finance       0.46      0.71      0.56       254\n",
      "  Computers&Internet       0.68      0.71      0.69       134\n",
      " Entertainment&Music       0.63      0.49      0.55       118\n",
      "Family&Relationships       0.68      0.70      0.69       104\n",
      " Education&Reference       0.36      0.12      0.19        64\n",
      "              Health       0.69      0.31      0.43        65\n",
      " Science&Mathematics       0.58      0.20      0.30        70\n",
      "\n",
      "         avg / total       0.57      0.56      0.53       809\n",
      "\n"
     ]
    }
   ],
   "source": [
    "print(classification_report(df_dev.Category, combined_predictions, target_names=class_labels))"
   ]
  },
  {
   "cell_type": "markdown",
   "metadata": {},
   "source": [
    "####Inspecting differences in probabilities between the two algorithms"
   ]
  },
  {
   "cell_type": "code",
   "execution_count": 175,
   "metadata": {
    "collapsed": false
   },
   "outputs": [
    {
     "data": {
      "text/plain": [
       "0.24598269468479605"
      ]
     },
     "execution_count": 175,
     "metadata": {},
     "output_type": "execute_result"
    }
   ],
   "source": [
    "combined_predictions_diff_idx = np.nonzero(np.subtract(nb_predictions, logreg_predictions))\n",
    "len(combined_predictions_diff_idx[0])/nb_predictions.shape[0] #Percentage of differences between the two algorithms"
   ]
  },
  {
   "cell_type": "code",
   "execution_count": 176,
   "metadata": {
    "collapsed": false
   },
   "outputs": [],
   "source": [
    "combined_predictions_probs_diff = np.subtract(np.max(nb_predictions_probs, axis=1), np.max(logreg_predictions_probs, axis=1))\n",
    "counts, bins =np.histogram(combined_predictions_probs_diff, range=(-1,1), bins= 20 )"
   ]
  },
  {
   "cell_type": "code",
   "execution_count": 177,
   "metadata": {
    "collapsed": false
   },
   "outputs": [
    {
     "data": {
      "image/png": "[encoded data removed]",
      "text/plain": [
       "<matplotlib.figure.Figure at 0x11b890590>"
      ]
     },
     "metadata": {},
     "output_type": "display_data"
    }
   ],
   "source": [
    "fig = plt.figure()\n",
    "ax = fig.add_subplot(111)\n",
    "## necessary variables\n",
    "width = 0.7 * (bins[1] - bins[0])\n",
    "center = (bins[:-1] + bins[1:]) / 2\n",
    "## the bars\n",
    "rects1 = ax.bar(center, counts, width = width)"
   ]
  },
  {
   "cell_type": "code",
   "execution_count": 178,
   "metadata": {
    "collapsed": false
   },
   "outputs": [
    {
     "data": {
      "text/plain": [
       "0.55006180469715693"
      ]
     },
     "execution_count": 178,
     "metadata": {},
     "output_type": "execute_result"
    }
   ],
   "source": [
    "df_combined = pd.DataFrame(combined_predictions, columns=[\"Category\"])\n",
    "df_combined[\"Prob Diff\"] = combined_predictions_probs_diff\n",
    "df_combined.loc[df_combined[\"Prob Diff\"] > .5, \"Category\"] = 1\n",
    "accuracy_score(df_dev.Category, df_combined.Category)"
   ]
  },
  {
   "cell_type": "markdown",
   "metadata": {},
   "source": [
    "Need to look more at raw data, see where the errors are. Not look only at the end result with the scores. "
   ]
  },
  {
   "cell_type": "markdown",
   "metadata": {},
   "source": [
    "####Weighing probabilities by input frequency\n",
    "Already taken into account by Naive Bayes and Logistic Regression"
   ]
  },
  {
   "cell_type": "markdown",
   "metadata": {},
   "source": [
    "##Submissions"
   ]
  },
  {
   "cell_type": "code",
   "execution_count": 179,
   "metadata": {
    "collapsed": false
   },
   "outputs": [
    {
     "data": {
      "text/plain": [
       "Id       int64\n",
       "Text    object\n",
       "dtype: object"
      ]
     },
     "execution_count": 179,
     "metadata": {},
     "output_type": "execute_result"
    }
   ],
   "source": [
    "df_test = pd.read_csv(\"newtest.csv\")\n",
    "df_test.dtypes"
   ]
  },
  {
   "cell_type": "markdown",
   "metadata": {},
   "source": [
    "### Baseline submission"
   ]
  },
  {
   "cell_type": "code",
   "execution_count": 180,
   "metadata": {
    "collapsed": false
   },
   "outputs": [],
   "source": [
    "df_test_bl = df_test\n",
    "df_test_bl[\"Category\"] = 1\n",
    "df_test_bl.to_csv(\"baseline_prediction.csv\", columns= [\"Id\", \"Category\"], index=False)"
   ]
  },
  {
   "cell_type": "markdown",
   "metadata": {},
   "source": [
    "###Create features on the whole train set and test set"
   ]
  },
  {
   "cell_type": "code",
   "execution_count": 181,
   "metadata": {
    "collapsed": false
   },
   "outputs": [
    {
     "data": {
      "text/plain": [
       "(2698, 5288)"
      ]
     },
     "execution_count": 181,
     "metadata": {},
     "output_type": "execute_result"
    }
   ],
   "source": [
    "arr_all_feature_sparse = vec.fit_transform(df[\"Text\"])\n",
    "arr_all_feature = arr_all_feature_sparse.toarray()\n",
    "arr_all_feature.shape"
   ]
  },
  {
   "cell_type": "code",
   "execution_count": 182,
   "metadata": {
    "collapsed": true
   },
   "outputs": [],
   "source": [
    "arr_test_feature_sparse = vec.transform(df_test[\"Text\"])\n",
    "arr_test_feature = arr_test_feature_sparse.toarray()"
   ]
  },
  {
   "cell_type": "markdown",
   "metadata": {
    "collapsed": true
   },
   "source": [
    "###Naive Bayes"
   ]
  },
  {
   "cell_type": "code",
   "execution_count": 185,
   "metadata": {
    "collapsed": false
   },
   "outputs": [],
   "source": [
    "#Train on all data (train + dev)\n",
    "nb_model = nb.fit(arr_all_feature, df.Category)\n",
    "\n",
    "nb_test_predictions = nb_model.predict(arr_test_feature)\n",
    "nb_test_predictions_probs = nb_model.predict_proba(arr_test_feature)\n",
    "df_test_nb = df_test\n",
    "df_test_nb[\"Category\"] = nb_test_predictions\n",
    "df_test_nb.to_csv(\"nb_unigrams_filtered_predictions.csv\", columns= [\"Id\", \"Category\"], index=False)"
   ]
  },
  {
   "cell_type": "markdown",
   "metadata": {},
   "source": [
    "###Logistic regression"
   ]
  },
  {
   "cell_type": "code",
   "execution_count": 186,
   "metadata": {
    "collapsed": false
   },
   "outputs": [],
   "source": [
    "logreg_model = logreg.fit(arr_all_feature, df.Category)\n",
    "\n",
    "lr_test_predictions = logreg_model.predict(arr_test_feature)\n",
    "lr_test_predictions_probs = logreg_model.predict_proba(arr_test_feature)\n",
    "df_test_lr = df_test\n",
    "df_test_lr[\"Category\"] = lr_test_predictions\n",
    "df_test_lr.to_csv(\"logreg_predictions.csv\", columns= [\"Id\", \"Category\"], index=False)"
   ]
  },
  {
   "cell_type": "markdown",
   "metadata": {},
   "source": [
    "### SVM"
   ]
  },
  {
   "cell_type": "code",
   "execution_count": 183,
   "metadata": {
    "collapsed": true
   },
   "outputs": [],
   "source": [
    "svm_model = svm_classifier.fit(arr_all_feature, df.Category)\n",
    "svm_test_predictions = svm_model.predict(arr_test_feature)\n",
    "svm_test_predictions_probs = svm_model.predict_proba(arr_test_feature)"
   ]
  },
  {
   "cell_type": "markdown",
   "metadata": {},
   "source": [
    "###Combined"
   ]
  },
  {
   "cell_type": "code",
   "execution_count": 351,
   "metadata": {
    "collapsed": false,
    "scrolled": true
   },
   "outputs": [],
   "source": [
    "combined_test_predictions_probs = np.add(nb_test_predictions_probs, lr_test_predictions_probs)\n",
    "combined_test_predictions = np.argmax(combined_test_predictions_probs, axis= 1) + 1\n",
    "df_test_combined = df_test\n",
    "df_test_combined[\"Category\"] = combined_test_predictions\n",
    "df_test_combined.to_csv(\"combined_withsvm_predictions.csv\", columns= [\"Id\", \"Category\"], index=False)"
   ]
  },
  {
   "cell_type": "code",
   "execution_count": 187,
   "metadata": {
    "collapsed": false
   },
   "outputs": [],
   "source": [
    "combined_test_predictions_probs = np.add(svm_test_predictions_probs, lr_test_predictions_probs)\n",
    "combined_test_predictions = np.argmax(combined_test_predictions_probs, axis= 1) + 1\n",
    "df_test_combined = df_test\n",
    "df_test_combined[\"Category\"] = combined_test_predictions\n",
    "df_test_combined.to_csv(\"combined_svm_predictions.csv\", columns= [\"Id\", \"Category\"], index=False)"
   ]
  }
 ],
 "metadata": {
  "kernelspec": {
   "display_name": "Python 3",
   "language": "python",
   "name": "python3"
  },
  "language_info": {
   "codemirror_mode": {
    "name": "ipython",
    "version": 3
   },
   "file_extension": ".py",
   "mimetype": "text/x-python",
   "name": "python",
   "nbconvert_exporter": "python",
   "pygments_lexer": "ipython3",
   "version": "3.4.3"
  }
 },
 "nbformat": 4,
 "nbformat_minor": 0
}
